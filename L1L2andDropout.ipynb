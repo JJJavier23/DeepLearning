{
  "cells": [
    {
      "cell_type": "markdown",
      "metadata": {
        "id": "view-in-github",
        "colab_type": "text"
      },
      "source": [
        "<a href=\"https://colab.research.google.com/github/JJJavier23/DeepLearning/blob/main/L1L2andDropout.ipynb\" target=\"_parent\"><img src=\"https://colab.research.google.com/assets/colab-badge.svg\" alt=\"Open In Colab\"/></a>"
      ]
    },
    {
      "cell_type": "markdown",
      "metadata": {
        "tags": [],
        "id": "r0ekAGy3GSIN"
      },
      "source": [
        "# Setup"
      ]
    },
    {
      "cell_type": "code",
      "execution_count": null,
      "metadata": {
        "id": "2urkGv13GSIN"
      },
      "outputs": [],
      "source": [
        "import sys\n",
        "from packaging import version\n",
        "import sklearn\n",
        "import numpy as np\n",
        "import tensorflow as tf"
      ]
    },
    {
      "cell_type": "markdown",
      "metadata": {
        "id": "AS-HCGP2GSIj"
      },
      "source": [
        "## Building a Regression MLP Using the Sequential API\n",
        "\n",
        "Let’s use the California housing problem and build a neural network with 3 hidden layers composed of 50 neurons each.\n",
        "The output layer has a single neuron (since we only want to predict a single value) and it uses no activation function, the loss function is the mean squared error, the metric is the RMSE, and we’re using an Adam optimizer."
      ]
    },
    {
      "cell_type": "markdown",
      "metadata": {
        "id": "ub4JYlTwGSIj"
      },
      "source": [
        "Let's load, split and scale the California housing dataset:"
      ]
    },
    {
      "cell_type": "code",
      "execution_count": null,
      "metadata": {
        "id": "JDQCmq-GGSIk"
      },
      "outputs": [],
      "source": [
        "# load and split the California housing dataset\n",
        "from sklearn.datasets import fetch_california_housing\n",
        "from sklearn.model_selection import\n",
        "\n",
        "housing = fetch_california_housing()\n",
        "X_train_full, X_test, y_train_full, y_test = train_test_split(\n",
        "    housing.data, housing.target, random_state=42)\n",
        "X_train, X_valid, y_train, y_valid = train_test_split(\n",
        "    X_train_full, y_train_full, random_state=42)"
      ]
    },
    {
      "cell_type": "code",
      "source": [
        "from sklearn.preprocessing import StandardScaler\n",
        "scaler = StandardScaler()\n",
        "X_train = scaler.fit_transform(X_train)\n",
        "X_valid = scaler.transform(X_valid)\n",
        "X_test = scaler.transform(X_test)"
      ],
      "metadata": {
        "id": "qOOruCFuovvW"
      },
      "execution_count": null,
      "outputs": []
    },
    {
      "cell_type": "code",
      "execution_count": null,
      "metadata": {
        "id": "KsytuLdFGSIk",
        "colab": {
          "base_uri": "https://localhost:8080/"
        },
        "outputId": "14bd771d-73ad-4e88-ceae-05b904f40896"
      },
      "outputs": [
        {
          "output_type": "stream",
          "name": "stdout",
          "text": [
            "Epoch 1/20\n",
            "\u001b[1m363/363\u001b[0m \u001b[32m━━━━━━━━━━━━━━━━━━━━\u001b[0m\u001b[37m\u001b[0m \u001b[1m8s\u001b[0m 10ms/step - RootMeanSquaredError: 1.3803 - loss: 2.0759 - val_RootMeanSquaredError: 0.7926 - val_loss: 0.6282\n",
            "Epoch 2/20\n",
            "\u001b[1m363/363\u001b[0m \u001b[32m━━━━━━━━━━━━━━━━━━━━\u001b[0m\u001b[37m\u001b[0m \u001b[1m1s\u001b[0m 3ms/step - RootMeanSquaredError: 0.6474 - loss: 0.4198 - val_RootMeanSquaredError: 1.0416 - val_loss: 1.0849\n",
            "Epoch 3/20\n",
            "\u001b[1m363/363\u001b[0m \u001b[32m━━━━━━━━━━━━━━━━━━━━\u001b[0m\u001b[37m\u001b[0m \u001b[1m2s\u001b[0m 3ms/step - RootMeanSquaredError: 0.6201 - loss: 0.3848 - val_RootMeanSquaredError: 0.9563 - val_loss: 0.9145\n",
            "Epoch 4/20\n",
            "\u001b[1m363/363\u001b[0m \u001b[32m━━━━━━━━━━━━━━━━━━━━\u001b[0m\u001b[37m\u001b[0m \u001b[1m1s\u001b[0m 3ms/step - RootMeanSquaredError: 0.6072 - loss: 0.3691 - val_RootMeanSquaredError: 0.9815 - val_loss: 0.9633\n",
            "Epoch 5/20\n",
            "\u001b[1m363/363\u001b[0m \u001b[32m━━━━━━━━━━━━━━━━━━━━\u001b[0m\u001b[37m\u001b[0m \u001b[1m1s\u001b[0m 3ms/step - RootMeanSquaredError: 0.5993 - loss: 0.3595 - val_RootMeanSquaredError: 1.1736 - val_loss: 1.3774\n",
            "Epoch 6/20\n",
            "\u001b[1m363/363\u001b[0m \u001b[32m━━━━━━━━━━━━━━━━━━━━\u001b[0m\u001b[37m\u001b[0m \u001b[1m1s\u001b[0m 3ms/step - RootMeanSquaredError: 0.5910 - loss: 0.3495 - val_RootMeanSquaredError: 0.6631 - val_loss: 0.4397\n",
            "Epoch 7/20\n",
            "\u001b[1m363/363\u001b[0m \u001b[32m━━━━━━━━━━━━━━━━━━━━\u001b[0m\u001b[37m\u001b[0m \u001b[1m1s\u001b[0m 3ms/step - RootMeanSquaredError: 0.5784 - loss: 0.3348 - val_RootMeanSquaredError: 0.5544 - val_loss: 0.3074\n",
            "Epoch 8/20\n",
            "\u001b[1m363/363\u001b[0m \u001b[32m━━━━━━━━━━━━━━━━━━━━\u001b[0m\u001b[37m\u001b[0m \u001b[1m1s\u001b[0m 3ms/step - RootMeanSquaredError: 0.5696 - loss: 0.3247 - val_RootMeanSquaredError: 0.5482 - val_loss: 0.3005\n",
            "Epoch 9/20\n",
            "\u001b[1m363/363\u001b[0m \u001b[32m━━━━━━━━━━━━━━━━━━━━\u001b[0m\u001b[37m\u001b[0m \u001b[1m1s\u001b[0m 2ms/step - RootMeanSquaredError: 0.5640 - loss: 0.3182 - val_RootMeanSquaredError: 0.5476 - val_loss: 0.2999\n",
            "Epoch 10/20\n",
            "\u001b[1m363/363\u001b[0m \u001b[32m━━━━━━━━━━━━━━━━━━━━\u001b[0m\u001b[37m\u001b[0m \u001b[1m1s\u001b[0m 3ms/step - RootMeanSquaredError: 0.5575 - loss: 0.3110 - val_RootMeanSquaredError: 0.5493 - val_loss: 0.3017\n",
            "Epoch 11/20\n",
            "\u001b[1m363/363\u001b[0m \u001b[32m━━━━━━━━━━━━━━━━━━━━\u001b[0m\u001b[37m\u001b[0m \u001b[1m1s\u001b[0m 3ms/step - RootMeanSquaredError: 0.5537 - loss: 0.3067 - val_RootMeanSquaredError: 0.5381 - val_loss: 0.2895\n",
            "Epoch 12/20\n",
            "\u001b[1m363/363\u001b[0m \u001b[32m━━━━━━━━━━━━━━━━━━━━\u001b[0m\u001b[37m\u001b[0m \u001b[1m1s\u001b[0m 3ms/step - RootMeanSquaredError: 0.5486 - loss: 0.3011 - val_RootMeanSquaredError: 0.6100 - val_loss: 0.3722\n",
            "Epoch 13/20\n",
            "\u001b[1m363/363\u001b[0m \u001b[32m━━━━━━━━━━━━━━━━━━━━\u001b[0m\u001b[37m\u001b[0m \u001b[1m1s\u001b[0m 3ms/step - RootMeanSquaredError: 0.5458 - loss: 0.2980 - val_RootMeanSquaredError: 0.6900 - val_loss: 0.4760\n",
            "Epoch 14/20\n",
            "\u001b[1m363/363\u001b[0m \u001b[32m━━━━━━━━━━━━━━━━━━━━\u001b[0m\u001b[37m\u001b[0m \u001b[1m1s\u001b[0m 2ms/step - RootMeanSquaredError: 0.5456 - loss: 0.2978 - val_RootMeanSquaredError: 0.7002 - val_loss: 0.4903\n",
            "Epoch 15/20\n",
            "\u001b[1m363/363\u001b[0m \u001b[32m━━━━━━━━━━━━━━━━━━━━\u001b[0m\u001b[37m\u001b[0m \u001b[1m1s\u001b[0m 2ms/step - RootMeanSquaredError: 0.5425 - loss: 0.2944 - val_RootMeanSquaredError: 1.0077 - val_loss: 1.0155\n",
            "Epoch 16/20\n",
            "\u001b[1m363/363\u001b[0m \u001b[32m━━━━━━━━━━━━━━━━━━━━\u001b[0m\u001b[37m\u001b[0m \u001b[1m2s\u001b[0m 3ms/step - RootMeanSquaredError: 0.5426 - loss: 0.2945 - val_RootMeanSquaredError: 1.0391 - val_loss: 1.0797\n",
            "Epoch 17/20\n",
            "\u001b[1m363/363\u001b[0m \u001b[32m━━━━━━━━━━━━━━━━━━━━\u001b[0m\u001b[37m\u001b[0m \u001b[1m1s\u001b[0m 3ms/step - RootMeanSquaredError: 0.5405 - loss: 0.2923 - val_RootMeanSquaredError: 0.6853 - val_loss: 0.4696\n",
            "Epoch 18/20\n",
            "\u001b[1m363/363\u001b[0m \u001b[32m━━━━━━━━━━━━━━━━━━━━\u001b[0m\u001b[37m\u001b[0m \u001b[1m1s\u001b[0m 2ms/step - RootMeanSquaredError: 0.5341 - loss: 0.2853 - val_RootMeanSquaredError: 0.5548 - val_loss: 0.3078\n",
            "Epoch 19/20\n",
            "\u001b[1m363/363\u001b[0m \u001b[32m━━━━━━━━━━━━━━━━━━━━\u001b[0m\u001b[37m\u001b[0m \u001b[1m1s\u001b[0m 2ms/step - RootMeanSquaredError: 0.5307 - loss: 0.2817 - val_RootMeanSquaredError: 0.5729 - val_loss: 0.3282\n",
            "Epoch 20/20\n",
            "\u001b[1m363/363\u001b[0m \u001b[32m━━━━━━━━━━━━━━━━━━━━\u001b[0m\u001b[37m\u001b[0m \u001b[1m1s\u001b[0m 2ms/step - RootMeanSquaredError: 0.5274 - loss: 0.2782 - val_RootMeanSquaredError: 0.5257 - val_loss: 0.2763\n",
            "\u001b[1m162/162\u001b[0m \u001b[32m━━━━━━━━━━━━━━━━━━━━\u001b[0m\u001b[37m\u001b[0m \u001b[1m1s\u001b[0m 3ms/step - RootMeanSquaredError: 0.5307 - loss: 0.2818\n",
            "\u001b[1m1/1\u001b[0m \u001b[32m━━━━━━━━━━━━━━━━━━━━\u001b[0m\u001b[37m\u001b[0m \u001b[1m0s\u001b[0m 251ms/step\n"
          ]
        }
      ],
      "source": [
        "tf.random.set_seed(42)\n",
        "model = tf.keras.Sequential([\n",
        "    tf.keras.layers.Dense(50, activation=\"relu\"),\n",
        "    tf.keras.layers.Dense(50, activation=\"relu\"),\n",
        "    tf.keras.layers.Dense(50, activation=\"relu\"),\n",
        "    tf.keras.layers.Dense(1)\n",
        "])\n",
        "optimizer = tf.keras.optimizers.Adam(learning_rate=1e-3)\n",
        "model.compile(loss=\"mse\", optimizer=optimizer, metrics=[\"RootMeanSquaredError\"])\n",
        "\n",
        "history = model.fit(X_train, y_train, epochs=20,\n",
        "                    validation_data=(X_valid, y_valid))"
      ]
    },
    {
      "cell_type": "code",
      "execution_count": null,
      "metadata": {
        "id": "MP84dwMKGSIk"
      },
      "outputs": [],
      "source": [
        "X_new = X_test[:3]\n",
        "y_pred = model.predict(X_new)"
      ]
    },
    {
      "cell_type": "code",
      "execution_count": null,
      "metadata": {
        "id": "7j_nulvjGSIk",
        "colab": {
          "base_uri": "https://localhost:8080/"
        },
        "outputId": "d330ce29-ecfc-457b-f3d5-9d66f65609e8"
      },
      "outputs": [
        {
          "output_type": "execute_result",
          "data": {
            "text/plain": [
              "array([[0.44746593],\n",
              "       [1.2418519 ],\n",
              "       [4.8894796 ]], dtype=float32)"
            ]
          },
          "metadata": {},
          "execution_count": 6
        }
      ],
      "source": [
        "y_pred"
      ]
    },
    {
      "cell_type": "markdown",
      "source": [
        "L1 and L2 regularization"
      ],
      "metadata": {
        "id": "zMeQjP0G1NU2"
      }
    },
    {
      "cell_type": "code",
      "source": [
        "import sys\n",
        "from packaging import version\n",
        "import sklearn\n",
        "import numpy as np\n",
        "import tensorflow as tf\n",
        "from sklearn.datasets import fetch_california_housing\n",
        "from sklearn.model_selection import train_test_split\n",
        "from sklearn.preprocessing import StandardScaler\n",
        "\n",
        "housing = fetch_california_housing()\n",
        "X_train_full, X_test, y_train_full, y_test = train_test_split(\n",
        "    housing.data, housing.target, random_state=42)\n",
        "X_train, X_valid, y_train, y_valid = train_test_split(\n",
        "    X_train_full, y_train_full, random_state=42)\n",
        "\n",
        "scaler = StandardScaler()\n",
        "X_train = scaler.fit_transform(X_train)\n",
        "X_valid = scaler.transform(X_valid)\n",
        "X_test = scaler.transform(X_test)\n",
        "\n",
        "tf.random.set_seed(42)\n",
        "\n",
        "# Define model with L1 & L2 Regularization\n",
        "regularizer = tf.keras.regularizers.l1_l2(l1=0.01, l2=0.01)\n",
        "\n",
        "model = tf.keras.Sequential([\n",
        "    tf.keras.layers.Dense(50, activation=\"relu\", kernel_regularizer=regularizer),\n",
        "    tf.keras.layers.Dense(50, activation=\"relu\", kernel_regularizer=regularizer),\n",
        "    tf.keras.layers.Dense(50, activation=\"relu\", kernel_regularizer=regularizer),\n",
        "    tf.keras.layers.Dense(1)  # Output Layer\n",
        "])\n",
        "\n",
        "# Compile Model\n",
        "optimizer = tf.keras.optimizers.Adam(learning_rate=1e-3)\n",
        "model.compile(loss=\"mse\", optimizer=optimizer, metrics=[\"RootMeanSquaredError\"])\n",
        "early_stopping = tf.keras.callbacks.EarlyStopping(patience=10, restore_best_weights=True)\n",
        "\n",
        "# Train Model\n",
        "history = model.fit(X_train, y_train, epochs=50, validation_data=(X_valid, y_valid), callbacks=[early_stopping])\n",
        "\n",
        "# Evaluate Model\n",
        "test_loss, test_rmse = model.evaluate(X_test, y_test)\n",
        "print(f\"Test RMSE: {test_rmse:.4f}\")\n"
      ],
      "metadata": {
        "id": "j9VuS6M60NLG",
        "outputId": "8a4be0c2-f246-4bde-bc81-c4f9190ece29",
        "colab": {
          "base_uri": "https://localhost:8080/"
        }
      },
      "execution_count": 2,
      "outputs": [
        {
          "output_type": "stream",
          "name": "stdout",
          "text": [
            "Epoch 1/50\n",
            "\u001b[1m363/363\u001b[0m \u001b[32m━━━━━━━━━━━━━━━━━━━━\u001b[0m\u001b[37m\u001b[0m \u001b[1m13s\u001b[0m 19ms/step - RootMeanSquaredError: 1.2955 - loss: 7.4431 - val_RootMeanSquaredError: 0.6707 - val_loss: 2.0434\n",
            "Epoch 2/50\n",
            "\u001b[1m363/363\u001b[0m \u001b[32m━━━━━━━━━━━━━━━━━━━━\u001b[0m\u001b[37m\u001b[0m \u001b[1m3s\u001b[0m 8ms/step - RootMeanSquaredError: 0.6879 - loss: 1.7377 - val_RootMeanSquaredError: 0.6444 - val_loss: 1.0601\n",
            "Epoch 3/50\n",
            "\u001b[1m363/363\u001b[0m \u001b[32m━━━━━━━━━━━━━━━━━━━━\u001b[0m\u001b[37m\u001b[0m \u001b[1m2s\u001b[0m 6ms/step - RootMeanSquaredError: 0.6714 - loss: 1.0133 - val_RootMeanSquaredError: 0.6390 - val_loss: 0.7814\n",
            "Epoch 4/50\n",
            "\u001b[1m363/363\u001b[0m \u001b[32m━━━━━━━━━━━━━━━━━━━━\u001b[0m\u001b[37m\u001b[0m \u001b[1m3s\u001b[0m 7ms/step - RootMeanSquaredError: 0.6663 - loss: 0.7926 - val_RootMeanSquaredError: 0.6293 - val_loss: 0.6740\n",
            "Epoch 5/50\n",
            "\u001b[1m363/363\u001b[0m \u001b[32m━━━━━━━━━━━━━━━━━━━━\u001b[0m\u001b[37m\u001b[0m \u001b[1m2s\u001b[0m 5ms/step - RootMeanSquaredError: 0.6626 - loss: 0.7091 - val_RootMeanSquaredError: 0.6242 - val_loss: 0.6250\n",
            "Epoch 6/50\n",
            "\u001b[1m363/363\u001b[0m \u001b[32m━━━━━━━━━━━━━━━━━━━━\u001b[0m\u001b[37m\u001b[0m \u001b[1m2s\u001b[0m 4ms/step - RootMeanSquaredError: 0.6584 - loss: 0.6669 - val_RootMeanSquaredError: 0.6195 - val_loss: 0.5946\n",
            "Epoch 7/50\n",
            "\u001b[1m363/363\u001b[0m \u001b[32m━━━━━━━━━━━━━━━━━━━━\u001b[0m\u001b[37m\u001b[0m \u001b[1m2s\u001b[0m 4ms/step - RootMeanSquaredError: 0.6542 - loss: 0.6373 - val_RootMeanSquaredError: 0.6197 - val_loss: 0.5736\n",
            "Epoch 8/50\n",
            "\u001b[1m363/363\u001b[0m \u001b[32m━━━━━━━━━━━━━━━━━━━━\u001b[0m\u001b[37m\u001b[0m \u001b[1m1s\u001b[0m 4ms/step - RootMeanSquaredError: 0.6513 - loss: 0.6139 - val_RootMeanSquaredError: 0.6149 - val_loss: 0.5541\n",
            "Epoch 9/50\n",
            "\u001b[1m363/363\u001b[0m \u001b[32m━━━━━━━━━━━━━━━━━━━━\u001b[0m\u001b[37m\u001b[0m \u001b[1m3s\u001b[0m 4ms/step - RootMeanSquaredError: 0.6488 - loss: 0.5980 - val_RootMeanSquaredError: 0.6137 - val_loss: 0.5418\n",
            "Epoch 10/50\n",
            "\u001b[1m363/363\u001b[0m \u001b[32m━━━━━━━━━━━━━━━━━━━━\u001b[0m\u001b[37m\u001b[0m \u001b[1m2s\u001b[0m 4ms/step - RootMeanSquaredError: 0.6467 - loss: 0.5846 - val_RootMeanSquaredError: 0.6128 - val_loss: 0.5315\n",
            "Epoch 11/50\n",
            "\u001b[1m363/363\u001b[0m \u001b[32m━━━━━━━━━━━━━━━━━━━━\u001b[0m\u001b[37m\u001b[0m \u001b[1m2s\u001b[0m 4ms/step - RootMeanSquaredError: 0.6451 - loss: 0.5733 - val_RootMeanSquaredError: 0.6114 - val_loss: 0.5224\n",
            "Epoch 12/50\n",
            "\u001b[1m363/363\u001b[0m \u001b[32m━━━━━━━━━━━━━━━━━━━━\u001b[0m\u001b[37m\u001b[0m \u001b[1m2s\u001b[0m 3ms/step - RootMeanSquaredError: 0.6437 - loss: 0.5643 - val_RootMeanSquaredError: 0.6105 - val_loss: 0.5154\n",
            "Epoch 13/50\n",
            "\u001b[1m363/363\u001b[0m \u001b[32m━━━━━━━━━━━━━━━━━━━━\u001b[0m\u001b[37m\u001b[0m \u001b[1m1s\u001b[0m 3ms/step - RootMeanSquaredError: 0.6425 - loss: 0.5569 - val_RootMeanSquaredError: 0.6090 - val_loss: 0.5094\n",
            "Epoch 14/50\n",
            "\u001b[1m363/363\u001b[0m \u001b[32m━━━━━━━━━━━━━━━━━━━━\u001b[0m\u001b[37m\u001b[0m \u001b[1m1s\u001b[0m 3ms/step - RootMeanSquaredError: 0.6412 - loss: 0.5511 - val_RootMeanSquaredError: 0.6085 - val_loss: 0.5049\n",
            "Epoch 15/50\n",
            "\u001b[1m363/363\u001b[0m \u001b[32m━━━━━━━━━━━━━━━━━━━━\u001b[0m\u001b[37m\u001b[0m \u001b[1m1s\u001b[0m 3ms/step - RootMeanSquaredError: 0.6405 - loss: 0.5462 - val_RootMeanSquaredError: 0.6075 - val_loss: 0.4999\n",
            "Epoch 16/50\n",
            "\u001b[1m363/363\u001b[0m \u001b[32m━━━━━━━━━━━━━━━━━━━━\u001b[0m\u001b[37m\u001b[0m \u001b[1m1s\u001b[0m 3ms/step - RootMeanSquaredError: 0.6396 - loss: 0.5412 - val_RootMeanSquaredError: 0.6074 - val_loss: 0.4957\n",
            "Epoch 17/50\n",
            "\u001b[1m363/363\u001b[0m \u001b[32m━━━━━━━━━━━━━━━━━━━━\u001b[0m\u001b[37m\u001b[0m \u001b[1m3s\u001b[0m 3ms/step - RootMeanSquaredError: 0.6390 - loss: 0.5363 - val_RootMeanSquaredError: 0.6061 - val_loss: 0.4905\n",
            "Epoch 18/50\n",
            "\u001b[1m363/363\u001b[0m \u001b[32m━━━━━━━━━━━━━━━━━━━━\u001b[0m\u001b[37m\u001b[0m \u001b[1m2s\u001b[0m 4ms/step - RootMeanSquaredError: 0.6382 - loss: 0.5316 - val_RootMeanSquaredError: 0.6062 - val_loss: 0.4872\n",
            "Epoch 19/50\n",
            "\u001b[1m363/363\u001b[0m \u001b[32m━━━━━━━━━━━━━━━━━━━━\u001b[0m\u001b[37m\u001b[0m \u001b[1m2s\u001b[0m 5ms/step - RootMeanSquaredError: 0.6377 - loss: 0.5272 - val_RootMeanSquaredError: 0.6049 - val_loss: 0.4819\n",
            "Epoch 20/50\n",
            "\u001b[1m363/363\u001b[0m \u001b[32m━━━━━━━━━━━━━━━━━━━━\u001b[0m\u001b[37m\u001b[0m \u001b[1m2s\u001b[0m 3ms/step - RootMeanSquaredError: 0.6370 - loss: 0.5227 - val_RootMeanSquaredError: 0.6050 - val_loss: 0.4788\n",
            "Epoch 21/50\n",
            "\u001b[1m363/363\u001b[0m \u001b[32m━━━━━━━━━━━━━━━━━━━━\u001b[0m\u001b[37m\u001b[0m \u001b[1m1s\u001b[0m 4ms/step - RootMeanSquaredError: 0.6365 - loss: 0.5187 - val_RootMeanSquaredError: 0.6042 - val_loss: 0.4752\n",
            "Epoch 22/50\n",
            "\u001b[1m363/363\u001b[0m \u001b[32m━━━━━━━━━━━━━━━━━━━━\u001b[0m\u001b[37m\u001b[0m \u001b[1m2s\u001b[0m 3ms/step - RootMeanSquaredError: 0.6357 - loss: 0.5154 - val_RootMeanSquaredError: 0.6044 - val_loss: 0.4741\n",
            "Epoch 23/50\n",
            "\u001b[1m363/363\u001b[0m \u001b[32m━━━━━━━━━━━━━━━━━━━━\u001b[0m\u001b[37m\u001b[0m \u001b[1m1s\u001b[0m 3ms/step - RootMeanSquaredError: 0.6352 - loss: 0.5136 - val_RootMeanSquaredError: 0.6037 - val_loss: 0.4721\n",
            "Epoch 24/50\n",
            "\u001b[1m363/363\u001b[0m \u001b[32m━━━━━━━━━━━━━━━━━━━━\u001b[0m\u001b[37m\u001b[0m \u001b[1m1s\u001b[0m 4ms/step - RootMeanSquaredError: 0.6348 - loss: 0.5117 - val_RootMeanSquaredError: 0.6038 - val_loss: 0.4709\n",
            "Epoch 25/50\n",
            "\u001b[1m363/363\u001b[0m \u001b[32m━━━━━━━━━━━━━━━━━━━━\u001b[0m\u001b[37m\u001b[0m \u001b[1m3s\u001b[0m 6ms/step - RootMeanSquaredError: 0.6345 - loss: 0.5101 - val_RootMeanSquaredError: 0.6030 - val_loss: 0.4686\n",
            "Epoch 26/50\n",
            "\u001b[1m363/363\u001b[0m \u001b[32m━━━━━━━━━━━━━━━━━━━━\u001b[0m\u001b[37m\u001b[0m \u001b[1m2s\u001b[0m 3ms/step - RootMeanSquaredError: 0.6341 - loss: 0.5083 - val_RootMeanSquaredError: 0.6033 - val_loss: 0.4679\n",
            "Epoch 27/50\n",
            "\u001b[1m363/363\u001b[0m \u001b[32m━━━━━━━━━━━━━━━━━━━━\u001b[0m\u001b[37m\u001b[0m \u001b[1m3s\u001b[0m 3ms/step - RootMeanSquaredError: 0.6339 - loss: 0.5069 - val_RootMeanSquaredError: 0.6032 - val_loss: 0.4667\n",
            "Epoch 28/50\n",
            "\u001b[1m363/363\u001b[0m \u001b[32m━━━━━━━━━━━━━━━━━━━━\u001b[0m\u001b[37m\u001b[0m \u001b[1m1s\u001b[0m 4ms/step - RootMeanSquaredError: 0.6335 - loss: 0.5055 - val_RootMeanSquaredError: 0.6027 - val_loss: 0.4654\n",
            "Epoch 29/50\n",
            "\u001b[1m363/363\u001b[0m \u001b[32m━━━━━━━━━━━━━━━━━━━━\u001b[0m\u001b[37m\u001b[0m \u001b[1m1s\u001b[0m 3ms/step - RootMeanSquaredError: 0.6334 - loss: 0.5044 - val_RootMeanSquaredError: 0.6108 - val_loss: 0.4745\n",
            "Epoch 30/50\n",
            "\u001b[1m363/363\u001b[0m \u001b[32m━━━━━━━━━━━━━━━━━━━━\u001b[0m\u001b[37m\u001b[0m \u001b[1m1s\u001b[0m 3ms/step - RootMeanSquaredError: 0.6327 - loss: 0.5029 - val_RootMeanSquaredError: 0.6025 - val_loss: 0.4638\n",
            "Epoch 31/50\n",
            "\u001b[1m363/363\u001b[0m \u001b[32m━━━━━━━━━━━━━━━━━━━━\u001b[0m\u001b[37m\u001b[0m \u001b[1m1s\u001b[0m 4ms/step - RootMeanSquaredError: 0.6328 - loss: 0.5022 - val_RootMeanSquaredError: 0.6024 - val_loss: 0.4629\n",
            "Epoch 32/50\n",
            "\u001b[1m363/363\u001b[0m \u001b[32m━━━━━━━━━━━━━━━━━━━━\u001b[0m\u001b[37m\u001b[0m \u001b[1m2s\u001b[0m 5ms/step - RootMeanSquaredError: 0.6324 - loss: 0.5012 - val_RootMeanSquaredError: 0.6018 - val_loss: 0.4615\n",
            "Epoch 33/50\n",
            "\u001b[1m363/363\u001b[0m \u001b[32m━━━━━━━━━━━━━━━━━━━━\u001b[0m\u001b[37m\u001b[0m \u001b[1m2s\u001b[0m 4ms/step - RootMeanSquaredError: 0.6321 - loss: 0.5002 - val_RootMeanSquaredError: 0.6021 - val_loss: 0.4614\n",
            "Epoch 34/50\n",
            "\u001b[1m363/363\u001b[0m \u001b[32m━━━━━━━━━━━━━━━━━━━━\u001b[0m\u001b[37m\u001b[0m \u001b[1m2s\u001b[0m 4ms/step - RootMeanSquaredError: 0.6321 - loss: 0.4996 - val_RootMeanSquaredError: 0.6019 - val_loss: 0.4606\n",
            "Epoch 35/50\n",
            "\u001b[1m363/363\u001b[0m \u001b[32m━━━━━━━━━━━━━━━━━━━━\u001b[0m\u001b[37m\u001b[0m \u001b[1m3s\u001b[0m 4ms/step - RootMeanSquaredError: 0.6319 - loss: 0.4987 - val_RootMeanSquaredError: 0.6018 - val_loss: 0.4599\n",
            "Epoch 36/50\n",
            "\u001b[1m363/363\u001b[0m \u001b[32m━━━━━━━━━━━━━━━━━━━━\u001b[0m\u001b[37m\u001b[0m \u001b[1m3s\u001b[0m 4ms/step - RootMeanSquaredError: 0.6318 - loss: 0.4980 - val_RootMeanSquaredError: 0.6017 - val_loss: 0.4591\n",
            "Epoch 37/50\n",
            "\u001b[1m363/363\u001b[0m \u001b[32m━━━━━━━━━━━━━━━━━━━━\u001b[0m\u001b[37m\u001b[0m \u001b[1m1s\u001b[0m 3ms/step - RootMeanSquaredError: 0.6315 - loss: 0.4971 - val_RootMeanSquaredError: 0.6012 - val_loss: 0.4583\n",
            "Epoch 38/50\n",
            "\u001b[1m363/363\u001b[0m \u001b[32m━━━━━━━━━━━━━━━━━━━━\u001b[0m\u001b[37m\u001b[0m \u001b[1m3s\u001b[0m 5ms/step - RootMeanSquaredError: 0.6315 - loss: 0.4967 - val_RootMeanSquaredError: 0.6088 - val_loss: 0.4669\n",
            "Epoch 39/50\n",
            "\u001b[1m363/363\u001b[0m \u001b[32m━━━━━━━━━━━━━━━━━━━━\u001b[0m\u001b[37m\u001b[0m \u001b[1m1s\u001b[0m 3ms/step - RootMeanSquaredError: 0.6317 - loss: 0.4963 - val_RootMeanSquaredError: 0.6011 - val_loss: 0.4568\n",
            "Epoch 40/50\n",
            "\u001b[1m363/363\u001b[0m \u001b[32m━━━━━━━━━━━━━━━━━━━━\u001b[0m\u001b[37m\u001b[0m \u001b[1m1s\u001b[0m 4ms/step - RootMeanSquaredError: 0.6319 - loss: 0.4958 - val_RootMeanSquaredError: 0.6011 - val_loss: 0.4562\n",
            "Epoch 41/50\n",
            "\u001b[1m363/363\u001b[0m \u001b[32m━━━━━━━━━━━━━━━━━━━━\u001b[0m\u001b[37m\u001b[0m \u001b[1m1s\u001b[0m 4ms/step - RootMeanSquaredError: 0.6313 - loss: 0.4947 - val_RootMeanSquaredError: 0.6005 - val_loss: 0.4552\n",
            "Epoch 42/50\n",
            "\u001b[1m363/363\u001b[0m \u001b[32m━━━━━━━━━━━━━━━━━━━━\u001b[0m\u001b[37m\u001b[0m \u001b[1m3s\u001b[0m 4ms/step - RootMeanSquaredError: 0.6307 - loss: 0.4934 - val_RootMeanSquaredError: 0.6002 - val_loss: 0.4545\n",
            "Epoch 43/50\n",
            "\u001b[1m363/363\u001b[0m \u001b[32m━━━━━━━━━━━━━━━━━━━━\u001b[0m\u001b[37m\u001b[0m \u001b[1m2s\u001b[0m 4ms/step - RootMeanSquaredError: 0.6306 - loss: 0.4929 - val_RootMeanSquaredError: 0.6061 - val_loss: 0.4611\n",
            "Epoch 44/50\n",
            "\u001b[1m363/363\u001b[0m \u001b[32m━━━━━━━━━━━━━━━━━━━━\u001b[0m\u001b[37m\u001b[0m \u001b[1m1s\u001b[0m 4ms/step - RootMeanSquaredError: 0.6299 - loss: 0.4915 - val_RootMeanSquaredError: 0.5999 - val_loss: 0.4529\n",
            "Epoch 45/50\n",
            "\u001b[1m363/363\u001b[0m \u001b[32m━━━━━━━━━━━━━━━━━━━━\u001b[0m\u001b[37m\u001b[0m \u001b[1m2s\u001b[0m 4ms/step - RootMeanSquaredError: 0.6298 - loss: 0.4909 - val_RootMeanSquaredError: 0.5997 - val_loss: 0.4523\n",
            "Epoch 46/50\n",
            "\u001b[1m363/363\u001b[0m \u001b[32m━━━━━━━━━━━━━━━━━━━━\u001b[0m\u001b[37m\u001b[0m \u001b[1m3s\u001b[0m 4ms/step - RootMeanSquaredError: 0.6295 - loss: 0.4901 - val_RootMeanSquaredError: 0.5995 - val_loss: 0.4516\n",
            "Epoch 47/50\n",
            "\u001b[1m363/363\u001b[0m \u001b[32m━━━━━━━━━━━━━━━━━━━━\u001b[0m\u001b[37m\u001b[0m \u001b[1m3s\u001b[0m 4ms/step - RootMeanSquaredError: 0.6293 - loss: 0.4892 - val_RootMeanSquaredError: 0.5993 - val_loss: 0.4508\n",
            "Epoch 48/50\n",
            "\u001b[1m363/363\u001b[0m \u001b[32m━━━━━━━━━━━━━━━━━━━━\u001b[0m\u001b[37m\u001b[0m \u001b[1m1s\u001b[0m 4ms/step - RootMeanSquaredError: 0.6289 - loss: 0.4883 - val_RootMeanSquaredError: 0.5991 - val_loss: 0.4502\n",
            "Epoch 49/50\n",
            "\u001b[1m363/363\u001b[0m \u001b[32m━━━━━━━━━━━━━━━━━━━━\u001b[0m\u001b[37m\u001b[0m \u001b[1m3s\u001b[0m 4ms/step - RootMeanSquaredError: 0.6286 - loss: 0.4874 - val_RootMeanSquaredError: 0.5989 - val_loss: 0.4495\n",
            "Epoch 50/50\n",
            "\u001b[1m363/363\u001b[0m \u001b[32m━━━━━━━━━━━━━━━━━━━━\u001b[0m\u001b[37m\u001b[0m \u001b[1m2s\u001b[0m 5ms/step - RootMeanSquaredError: 0.6283 - loss: 0.4865 - val_RootMeanSquaredError: 0.5987 - val_loss: 0.4486\n",
            "\u001b[1m162/162\u001b[0m \u001b[32m━━━━━━━━━━━━━━━━━━━━\u001b[0m\u001b[37m\u001b[0m \u001b[1m1s\u001b[0m 5ms/step - RootMeanSquaredError: 0.6174 - loss: 0.4715\n",
            "Test RMSE: 0.6158\n"
          ]
        }
      ]
    },
    {
      "cell_type": "markdown",
      "source": [
        "Addition of Dropout"
      ],
      "metadata": {
        "id": "ZqYu1T6e1SHS"
      }
    },
    {
      "cell_type": "code",
      "source": [
        "import sys\n",
        "from packaging import version\n",
        "import sklearn\n",
        "import numpy as np\n",
        "import tensorflow as tf\n",
        "from sklearn.datasets import fetch_california_housing\n",
        "from sklearn.model_selection import train_test_split\n",
        "from sklearn.preprocessing import StandardScaler\n",
        "\n",
        "housing = fetch_california_housing()\n",
        "X_train_full, X_test, y_train_full, y_test = train_test_split(\n",
        "    housing.data, housing.target, random_state=42)\n",
        "X_train, X_valid, y_train, y_valid = train_test_split(\n",
        "    X_train_full, y_train_full, random_state=42)\n",
        "\n",
        "scaler = StandardScaler()\n",
        "X_train = scaler.fit_transform(X_train)\n",
        "X_valid = scaler.transform(X_valid)\n",
        "X_test = scaler.transform(X_test)\n",
        "\n",
        "tf.random.set_seed(42)\n",
        "\n",
        "# L1-L2 Regularization\n",
        "regularizer = tf.keras.regularizers.l1_l2(l1=0.01, l2=0.01)\n",
        "\n",
        "# Model with Dropout\n",
        "model = tf.keras.Sequential([\n",
        "    tf.keras.layers.Dense(50, activation=\"relu\", kernel_regularizer=regularizer),\n",
        "    tf.keras.layers.BatchNormalization(),\n",
        "    tf.keras.layers.Dropout(0.2),  # Dropout\n",
        "\n",
        "    tf.keras.layers.Dense(50, activation=\"relu\", kernel_regularizer=regularizer),\n",
        "    tf.keras.layers.BatchNormalization(),\n",
        "    tf.keras.layers.Dropout(0.2),  # Dropout\n",
        "\n",
        "    tf.keras.layers.Dense(50, activation=\"relu\", kernel_regularizer=regularizer),\n",
        "    tf.keras.layers.BatchNormalization(),\n",
        "    tf.keras.layers.Dropout(0.2),  # Dropout\n",
        "\n",
        "    tf.keras.layers.Dense(1)  # Output\n",
        "])\n",
        "\n",
        "# Compile\n",
        "optimizer = tf.keras.optimizers.Adam(learning_rate=1e-3)\n",
        "model.compile(loss=\"mse\", optimizer=optimizer, metrics=[\"RootMeanSquaredError\"])\n",
        "early_stopping = tf.keras.callbacks.EarlyStopping(patience=10, restore_best_weights=True)\n",
        "\n",
        "# Train\n",
        "history = model.fit(X_train, y_train, epochs=50, validation_data=(X_valid, y_valid), callbacks=[early_stopping])\n",
        "\n",
        "# Output\n",
        "test_loss, test_rmse = model.evaluate(X_test, y_test)\n",
        "print(f\"Test RMSE: {test_rmse:.4f}\")"
      ],
      "metadata": {
        "id": "d24P4lhF1FUd",
        "outputId": "69fb68f6-c559-4983-b727-5ea349f6603b",
        "colab": {
          "base_uri": "https://localhost:8080/"
        }
      },
      "execution_count": 3,
      "outputs": [
        {
          "output_type": "stream",
          "name": "stdout",
          "text": [
            "Epoch 1/50\n",
            "\u001b[1m363/363\u001b[0m \u001b[32m━━━━━━━━━━━━━━━━━━━━\u001b[0m\u001b[37m\u001b[0m \u001b[1m15s\u001b[0m 16ms/step - RootMeanSquaredError: 1.9468 - loss: 11.2335 - val_RootMeanSquaredError: 0.8012 - val_loss: 6.4329\n",
            "Epoch 2/50\n",
            "\u001b[1m363/363\u001b[0m \u001b[32m━━━━━━━━━━━━━━━━━━━━\u001b[0m\u001b[37m\u001b[0m \u001b[1m1s\u001b[0m 4ms/step - RootMeanSquaredError: 1.0340 - loss: 6.3822 - val_RootMeanSquaredError: 1.2339 - val_loss: 5.4386\n",
            "Epoch 3/50\n",
            "\u001b[1m363/363\u001b[0m \u001b[32m━━━━━━━━━━━━━━━━━━━━\u001b[0m\u001b[37m\u001b[0m \u001b[1m1s\u001b[0m 4ms/step - RootMeanSquaredError: 0.9016 - loss: 4.3156 - val_RootMeanSquaredError: 0.7576 - val_loss: 2.9392\n",
            "Epoch 4/50\n",
            "\u001b[1m363/363\u001b[0m \u001b[32m━━━━━━━━━━━━━━━━━━━━\u001b[0m\u001b[37m\u001b[0m \u001b[1m2s\u001b[0m 4ms/step - RootMeanSquaredError: 0.8235 - loss: 2.7375 - val_RootMeanSquaredError: 1.3472 - val_loss: 3.1098\n",
            "Epoch 5/50\n",
            "\u001b[1m363/363\u001b[0m \u001b[32m━━━━━━━━━━━━━━━━━━━━\u001b[0m\u001b[37m\u001b[0m \u001b[1m3s\u001b[0m 5ms/step - RootMeanSquaredError: 0.8016 - loss: 1.7742 - val_RootMeanSquaredError: 0.6793 - val_loss: 1.1998\n",
            "Epoch 6/50\n",
            "\u001b[1m363/363\u001b[0m \u001b[32m━━━━━━━━━━━━━━━━━━━━\u001b[0m\u001b[37m\u001b[0m \u001b[1m2s\u001b[0m 5ms/step - RootMeanSquaredError: 0.7655 - loss: 1.2486 - val_RootMeanSquaredError: 0.7066 - val_loss: 0.9594\n",
            "Epoch 7/50\n",
            "\u001b[1m363/363\u001b[0m \u001b[32m━━━━━━━━━━━━━━━━━━━━\u001b[0m\u001b[37m\u001b[0m \u001b[1m1s\u001b[0m 4ms/step - RootMeanSquaredError: 0.7467 - loss: 0.9887 - val_RootMeanSquaredError: 0.7148 - val_loss: 0.8146\n",
            "Epoch 8/50\n",
            "\u001b[1m363/363\u001b[0m \u001b[32m━━━━━━━━━━━━━━━━━━━━\u001b[0m\u001b[37m\u001b[0m \u001b[1m3s\u001b[0m 5ms/step - RootMeanSquaredError: 0.7385 - loss: 0.8431 - val_RootMeanSquaredError: 0.7989 - val_loss: 0.8596\n",
            "Epoch 9/50\n",
            "\u001b[1m363/363\u001b[0m \u001b[32m━━━━━━━━━━━━━━━━━━━━\u001b[0m\u001b[37m\u001b[0m \u001b[1m2s\u001b[0m 4ms/step - RootMeanSquaredError: 0.7221 - loss: 0.7371 - val_RootMeanSquaredError: 0.8153 - val_loss: 0.8449\n",
            "Epoch 10/50\n",
            "\u001b[1m363/363\u001b[0m \u001b[32m━━━━━━━━━━━━━━━━━━━━\u001b[0m\u001b[37m\u001b[0m \u001b[1m1s\u001b[0m 4ms/step - RootMeanSquaredError: 0.7158 - loss: 0.6870 - val_RootMeanSquaredError: 0.6168 - val_loss: 0.5302\n",
            "Epoch 11/50\n",
            "\u001b[1m363/363\u001b[0m \u001b[32m━━━━━━━━━━━━━━━━━━━━\u001b[0m\u001b[37m\u001b[0m \u001b[1m3s\u001b[0m 6ms/step - RootMeanSquaredError: 0.7119 - loss: 0.6530 - val_RootMeanSquaredError: 0.7013 - val_loss: 0.6177\n",
            "Epoch 12/50\n",
            "\u001b[1m363/363\u001b[0m \u001b[32m━━━━━━━━━━━━━━━━━━━━\u001b[0m\u001b[37m\u001b[0m \u001b[1m2s\u001b[0m 4ms/step - RootMeanSquaredError: 0.7181 - loss: 0.6511 - val_RootMeanSquaredError: 0.5892 - val_loss: 0.4715\n",
            "Epoch 13/50\n",
            "\u001b[1m363/363\u001b[0m \u001b[32m━━━━━━━━━━━━━━━━━━━━\u001b[0m\u001b[37m\u001b[0m \u001b[1m1s\u001b[0m 4ms/step - RootMeanSquaredError: 0.6993 - loss: 0.6144 - val_RootMeanSquaredError: 0.6582 - val_loss: 0.5439\n",
            "Epoch 14/50\n",
            "\u001b[1m363/363\u001b[0m \u001b[32m━━━━━━━━━━━━━━━━━━━━\u001b[0m\u001b[37m\u001b[0m \u001b[1m2s\u001b[0m 4ms/step - RootMeanSquaredError: 0.6996 - loss: 0.6008 - val_RootMeanSquaredError: 0.6278 - val_loss: 0.5015\n",
            "Epoch 15/50\n",
            "\u001b[1m363/363\u001b[0m \u001b[32m━━━━━━━━━━━━━━━━━━━━\u001b[0m\u001b[37m\u001b[0m \u001b[1m3s\u001b[0m 4ms/step - RootMeanSquaredError: 0.6986 - loss: 0.5962 - val_RootMeanSquaredError: 0.6298 - val_loss: 0.4973\n",
            "Epoch 16/50\n",
            "\u001b[1m363/363\u001b[0m \u001b[32m━━━━━━━━━━━━━━━━━━━━\u001b[0m\u001b[37m\u001b[0m \u001b[1m1s\u001b[0m 4ms/step - RootMeanSquaredError: 0.6963 - loss: 0.5871 - val_RootMeanSquaredError: 0.6284 - val_loss: 0.4924\n",
            "Epoch 17/50\n",
            "\u001b[1m363/363\u001b[0m \u001b[32m━━━━━━━━━━━━━━━━━━━━\u001b[0m\u001b[37m\u001b[0m \u001b[1m3s\u001b[0m 5ms/step - RootMeanSquaredError: 0.7054 - loss: 0.5976 - val_RootMeanSquaredError: 0.6062 - val_loss: 0.4634\n",
            "Epoch 18/50\n",
            "\u001b[1m363/363\u001b[0m \u001b[32m━━━━━━━━━━━━━━━━━━━━\u001b[0m\u001b[37m\u001b[0m \u001b[1m2s\u001b[0m 4ms/step - RootMeanSquaredError: 0.6993 - loss: 0.5882 - val_RootMeanSquaredError: 0.6346 - val_loss: 0.4965\n",
            "Epoch 19/50\n",
            "\u001b[1m363/363\u001b[0m \u001b[32m━━━━━━━━━━━━━━━━━━━━\u001b[0m\u001b[37m\u001b[0m \u001b[1m1s\u001b[0m 4ms/step - RootMeanSquaredError: 0.6967 - loss: 0.5817 - val_RootMeanSquaredError: 0.6956 - val_loss: 0.5772\n",
            "Epoch 20/50\n",
            "\u001b[1m363/363\u001b[0m \u001b[32m━━━━━━━━━━━━━━━━━━━━\u001b[0m\u001b[37m\u001b[0m \u001b[1m1s\u001b[0m 4ms/step - RootMeanSquaredError: 0.6963 - loss: 0.5818 - val_RootMeanSquaredError: 0.6060 - val_loss: 0.4652\n",
            "Epoch 21/50\n",
            "\u001b[1m363/363\u001b[0m \u001b[32m━━━━━━━━━━━━━━━━━━━━\u001b[0m\u001b[37m\u001b[0m \u001b[1m3s\u001b[0m 4ms/step - RootMeanSquaredError: 0.6973 - loss: 0.5907 - val_RootMeanSquaredError: 0.6111 - val_loss: 0.4770\n",
            "Epoch 22/50\n",
            "\u001b[1m363/363\u001b[0m \u001b[32m━━━━━━━━━━━━━━━━━━━━\u001b[0m\u001b[37m\u001b[0m \u001b[1m1s\u001b[0m 4ms/step - RootMeanSquaredError: 0.6989 - loss: 0.5955 - val_RootMeanSquaredError: 0.6111 - val_loss: 0.4731\n",
            "Epoch 23/50\n",
            "\u001b[1m363/363\u001b[0m \u001b[32m━━━━━━━━━━━━━━━━━━━━\u001b[0m\u001b[37m\u001b[0m \u001b[1m2s\u001b[0m 5ms/step - RootMeanSquaredError: 0.7001 - loss: 0.5889 - val_RootMeanSquaredError: 0.6273 - val_loss: 0.4905\n",
            "Epoch 24/50\n",
            "\u001b[1m363/363\u001b[0m \u001b[32m━━━━━━━━━━━━━━━━━━━━\u001b[0m\u001b[37m\u001b[0m \u001b[1m2s\u001b[0m 4ms/step - RootMeanSquaredError: 0.7025 - loss: 0.5961 - val_RootMeanSquaredError: 0.6085 - val_loss: 0.4722\n",
            "Epoch 25/50\n",
            "\u001b[1m363/363\u001b[0m \u001b[32m━━━━━━━━━━━━━━━━━━━━\u001b[0m\u001b[37m\u001b[0m \u001b[1m1s\u001b[0m 4ms/step - RootMeanSquaredError: 0.7007 - loss: 0.5916 - val_RootMeanSquaredError: 0.6018 - val_loss: 0.4555\n",
            "Epoch 26/50\n",
            "\u001b[1m363/363\u001b[0m \u001b[32m━━━━━━━━━━━━━━━━━━━━\u001b[0m\u001b[37m\u001b[0m \u001b[1m1s\u001b[0m 4ms/step - RootMeanSquaredError: 0.6926 - loss: 0.5768 - val_RootMeanSquaredError: 1.2624 - val_loss: 1.6999\n",
            "Epoch 27/50\n",
            "\u001b[1m363/363\u001b[0m \u001b[32m━━━━━━━━━━━━━━━━━━━━\u001b[0m\u001b[37m\u001b[0m \u001b[1m2s\u001b[0m 4ms/step - RootMeanSquaredError: 0.7076 - loss: 0.6095 - val_RootMeanSquaredError: 0.6384 - val_loss: 0.5021\n",
            "Epoch 28/50\n",
            "\u001b[1m363/363\u001b[0m \u001b[32m━━━━━━━━━━━━━━━━━━━━\u001b[0m\u001b[37m\u001b[0m \u001b[1m2s\u001b[0m 6ms/step - RootMeanSquaredError: 0.6953 - loss: 0.5826 - val_RootMeanSquaredError: 0.6493 - val_loss: 0.5206\n",
            "Epoch 29/50\n",
            "\u001b[1m363/363\u001b[0m \u001b[32m━━━━━━━━━━━━━━━━━━━━\u001b[0m\u001b[37m\u001b[0m \u001b[1m1s\u001b[0m 4ms/step - RootMeanSquaredError: 0.7011 - loss: 0.5924 - val_RootMeanSquaredError: 0.6808 - val_loss: 0.5610\n",
            "Epoch 30/50\n",
            "\u001b[1m363/363\u001b[0m \u001b[32m━━━━━━━━━━━━━━━━━━━━\u001b[0m\u001b[37m\u001b[0m \u001b[1m2s\u001b[0m 6ms/step - RootMeanSquaredError: 0.6934 - loss: 0.5814 - val_RootMeanSquaredError: 0.6404 - val_loss: 0.5005\n",
            "Epoch 31/50\n",
            "\u001b[1m363/363\u001b[0m \u001b[32m━━━━━━━━━━━━━━━━━━━━\u001b[0m\u001b[37m\u001b[0m \u001b[1m2s\u001b[0m 4ms/step - RootMeanSquaredError: 0.6937 - loss: 0.5737 - val_RootMeanSquaredError: 0.6290 - val_loss: 0.4851\n",
            "Epoch 32/50\n",
            "\u001b[1m363/363\u001b[0m \u001b[32m━━━━━━━━━━━━━━━━━━━━\u001b[0m\u001b[37m\u001b[0m \u001b[1m1s\u001b[0m 4ms/step - RootMeanSquaredError: 0.6961 - loss: 0.5757 - val_RootMeanSquaredError: 0.5916 - val_loss: 0.4434\n",
            "Epoch 33/50\n",
            "\u001b[1m363/363\u001b[0m \u001b[32m━━━━━━━━━━━━━━━━━━━━\u001b[0m\u001b[37m\u001b[0m \u001b[1m2s\u001b[0m 4ms/step - RootMeanSquaredError: 0.6949 - loss: 0.5802 - val_RootMeanSquaredError: 0.6126 - val_loss: 0.4683\n",
            "Epoch 34/50\n",
            "\u001b[1m363/363\u001b[0m \u001b[32m━━━━━━━━━━━━━━━━━━━━\u001b[0m\u001b[37m\u001b[0m \u001b[1m1s\u001b[0m 4ms/step - RootMeanSquaredError: 0.7010 - loss: 0.5846 - val_RootMeanSquaredError: 0.6478 - val_loss: 0.5047\n",
            "Epoch 35/50\n",
            "\u001b[1m363/363\u001b[0m \u001b[32m━━━━━━━━━━━━━━━━━━━━\u001b[0m\u001b[37m\u001b[0m \u001b[1m3s\u001b[0m 4ms/step - RootMeanSquaredError: 0.6920 - loss: 0.5706 - val_RootMeanSquaredError: 0.6778 - val_loss: 0.5489\n",
            "Epoch 36/50\n",
            "\u001b[1m363/363\u001b[0m \u001b[32m━━━━━━━━━━━━━━━━━━━━\u001b[0m\u001b[37m\u001b[0m \u001b[1m3s\u001b[0m 5ms/step - RootMeanSquaredError: 0.6921 - loss: 0.5709 - val_RootMeanSquaredError: 0.5735 - val_loss: 0.4227\n",
            "Epoch 37/50\n",
            "\u001b[1m363/363\u001b[0m \u001b[32m━━━━━━━━━━━━━━━━━━━━\u001b[0m\u001b[37m\u001b[0m \u001b[1m2s\u001b[0m 4ms/step - RootMeanSquaredError: 0.6993 - loss: 0.5831 - val_RootMeanSquaredError: 0.6647 - val_loss: 0.5285\n",
            "Epoch 38/50\n",
            "\u001b[1m363/363\u001b[0m \u001b[32m━━━━━━━━━━━━━━━━━━━━\u001b[0m\u001b[37m\u001b[0m \u001b[1m1s\u001b[0m 4ms/step - RootMeanSquaredError: 0.6932 - loss: 0.5687 - val_RootMeanSquaredError: 0.6225 - val_loss: 0.4715\n",
            "Epoch 39/50\n",
            "\u001b[1m363/363\u001b[0m \u001b[32m━━━━━━━━━━━━━━━━━━━━\u001b[0m\u001b[37m\u001b[0m \u001b[1m3s\u001b[0m 4ms/step - RootMeanSquaredError: 0.6956 - loss: 0.5722 - val_RootMeanSquaredError: 0.5872 - val_loss: 0.4314\n",
            "Epoch 40/50\n",
            "\u001b[1m363/363\u001b[0m \u001b[32m━━━━━━━━━━━━━━━━━━━━\u001b[0m\u001b[37m\u001b[0m \u001b[1m2s\u001b[0m 4ms/step - RootMeanSquaredError: 0.6986 - loss: 0.5830 - val_RootMeanSquaredError: 0.6136 - val_loss: 0.4633\n",
            "Epoch 41/50\n",
            "\u001b[1m363/363\u001b[0m \u001b[32m━━━━━━━━━━━━━━━━━━━━\u001b[0m\u001b[37m\u001b[0m \u001b[1m2s\u001b[0m 5ms/step - RootMeanSquaredError: 0.6907 - loss: 0.5668 - val_RootMeanSquaredError: 0.6101 - val_loss: 0.4612\n",
            "Epoch 42/50\n",
            "\u001b[1m363/363\u001b[0m \u001b[32m━━━━━━━━━━━━━━━━━━━━\u001b[0m\u001b[37m\u001b[0m \u001b[1m2s\u001b[0m 4ms/step - RootMeanSquaredError: 0.6979 - loss: 0.5778 - val_RootMeanSquaredError: 0.5929 - val_loss: 0.4451\n",
            "Epoch 43/50\n",
            "\u001b[1m363/363\u001b[0m \u001b[32m━━━━━━━━━━━━━━━━━━━━\u001b[0m\u001b[37m\u001b[0m \u001b[1m3s\u001b[0m 4ms/step - RootMeanSquaredError: 0.6928 - loss: 0.5774 - val_RootMeanSquaredError: 0.5982 - val_loss: 0.4498\n",
            "Epoch 44/50\n",
            "\u001b[1m363/363\u001b[0m \u001b[32m━━━━━━━━━━━━━━━━━━━━\u001b[0m\u001b[37m\u001b[0m \u001b[1m1s\u001b[0m 4ms/step - RootMeanSquaredError: 0.6953 - loss: 0.5771 - val_RootMeanSquaredError: 0.6624 - val_loss: 0.5262\n",
            "Epoch 45/50\n",
            "\u001b[1m363/363\u001b[0m \u001b[32m━━━━━━━━━━━━━━━━━━━━\u001b[0m\u001b[37m\u001b[0m \u001b[1m1s\u001b[0m 4ms/step - RootMeanSquaredError: 0.6938 - loss: 0.5739 - val_RootMeanSquaredError: 0.6332 - val_loss: 0.4933\n",
            "Epoch 46/50\n",
            "\u001b[1m363/363\u001b[0m \u001b[32m━━━━━━━━━━━━━━━━━━━━\u001b[0m\u001b[37m\u001b[0m \u001b[1m1s\u001b[0m 4ms/step - RootMeanSquaredError: 0.6942 - loss: 0.5772 - val_RootMeanSquaredError: 0.6022 - val_loss: 0.4606\n",
            "\u001b[1m162/162\u001b[0m \u001b[32m━━━━━━━━━━━━━━━━━━━━\u001b[0m\u001b[37m\u001b[0m \u001b[1m1s\u001b[0m 5ms/step - RootMeanSquaredError: 0.5915 - loss: 0.4438\n",
            "Test RMSE: 0.5902\n"
          ]
        }
      ]
    }
  ],
  "metadata": {
    "kernelspec": {
      "display_name": "Python 3",
      "name": "python3"
    },
    "language_info": {
      "codemirror_mode": {
        "name": "ipython",
        "version": 3
      },
      "file_extension": ".py",
      "mimetype": "text/x-python",
      "name": "python",
      "nbconvert_exporter": "python",
      "pygments_lexer": "ipython3",
      "version": "3.9.10"
    },
    "nav_menu": {
      "height": "264px",
      "width": "369px"
    },
    "toc": {
      "navigate_menu": true,
      "number_sections": true,
      "sideBar": true,
      "threshold": 6,
      "toc_cell": false,
      "toc_section_display": "block",
      "toc_window_display": false
    },
    "colab": {
      "provenance": [],
      "gpuType": "T4",
      "name": "L1L2andDropout.ipynb",
      "include_colab_link": true
    },
    "accelerator": "GPU"
  },
  "nbformat": 4,
  "nbformat_minor": 0
}